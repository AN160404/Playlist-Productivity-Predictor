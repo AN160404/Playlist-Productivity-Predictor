{
 "cells": [
  {
   "cell_type": "code",
   "execution_count": 66,
   "id": "45baaa73",
   "metadata": {},
   "outputs": [],
   "source": [
    "import matplotlib.pyplot as plt\n",
    "import seaborn as sns"
   ]
  },
  {
   "cell_type": "markdown",
   "id": "9e1b56fc",
   "metadata": {},
   "source": [
    "### Predict whether a music playlist will help boost productivity or not, based on its musical features."
   ]
  },
  {
   "cell_type": "code",
   "execution_count": 67,
   "id": "6b73d711",
   "metadata": {},
   "outputs": [
    {
     "data": {
      "application/vnd.microsoft.datawrangler.viewer.v0+json": {
       "columns": [
        {
         "name": "index",
         "rawType": "int64",
         "type": "integer"
        },
        {
         "name": "track_id",
         "rawType": "object",
         "type": "string"
        },
        {
         "name": "artists",
         "rawType": "object",
         "type": "string"
        },
        {
         "name": "album_name",
         "rawType": "object",
         "type": "string"
        },
        {
         "name": "track_name",
         "rawType": "object",
         "type": "string"
        },
        {
         "name": "popularity",
         "rawType": "int64",
         "type": "integer"
        },
        {
         "name": "duration_ms",
         "rawType": "int64",
         "type": "integer"
        },
        {
         "name": "explicit",
         "rawType": "bool",
         "type": "boolean"
        },
        {
         "name": "danceability",
         "rawType": "float64",
         "type": "float"
        },
        {
         "name": "energy",
         "rawType": "float64",
         "type": "float"
        },
        {
         "name": "key",
         "rawType": "int64",
         "type": "integer"
        },
        {
         "name": "loudness",
         "rawType": "float64",
         "type": "float"
        },
        {
         "name": "mode",
         "rawType": "int64",
         "type": "integer"
        },
        {
         "name": "speechiness",
         "rawType": "float64",
         "type": "float"
        },
        {
         "name": "acousticness",
         "rawType": "float64",
         "type": "float"
        },
        {
         "name": "instrumentalness",
         "rawType": "float64",
         "type": "float"
        },
        {
         "name": "liveness",
         "rawType": "float64",
         "type": "float"
        },
        {
         "name": "valence",
         "rawType": "float64",
         "type": "float"
        },
        {
         "name": "tempo",
         "rawType": "float64",
         "type": "float"
        },
        {
         "name": "time_signature",
         "rawType": "int64",
         "type": "integer"
        },
        {
         "name": "track_genre",
         "rawType": "object",
         "type": "string"
        }
       ],
       "ref": "4f91e0cd-ca5d-4930-822b-a9d51bd4306b",
       "rows": [
        [
         "0",
         "5SuOikwiRyPMVoIQDJUgSV",
         "Gen Hoshino",
         "Comedy",
         "Comedy",
         "73",
         "230666",
         "False",
         "0.676",
         "0.461",
         "1",
         "-6.746",
         "0",
         "0.143",
         "0.0322",
         "1.01e-06",
         "0.358",
         "0.715",
         "87.917",
         "4",
         "acoustic"
        ],
        [
         "1",
         "4qPNDBW1i3p13qLCt0Ki3A",
         "Ben Woodward",
         "Ghost (Acoustic)",
         "Ghost - Acoustic",
         "55",
         "149610",
         "False",
         "0.42",
         "0.166",
         "1",
         "-17.235",
         "1",
         "0.0763",
         "0.924",
         "5.56e-06",
         "0.101",
         "0.267",
         "77.489",
         "4",
         "acoustic"
        ],
        [
         "2",
         "1iJBSr7s7jYXzM8EGcbK5b",
         "Ingrid Michaelson;ZAYN",
         "To Begin Again",
         "To Begin Again",
         "57",
         "210826",
         "False",
         "0.438",
         "0.359",
         "0",
         "-9.734",
         "1",
         "0.0557",
         "0.21",
         "0.0",
         "0.117",
         "0.12",
         "76.332",
         "4",
         "acoustic"
        ],
        [
         "3",
         "6lfxq3CG4xtTiEg7opyCyx",
         "Kina Grannis",
         "Crazy Rich Asians (Original Motion Picture Soundtrack)",
         "Can't Help Falling In Love",
         "71",
         "201933",
         "False",
         "0.266",
         "0.0596",
         "0",
         "-18.515",
         "1",
         "0.0363",
         "0.905",
         "7.07e-05",
         "0.132",
         "0.143",
         "181.74",
         "3",
         "acoustic"
        ],
        [
         "4",
         "5vjLSffimiIP26QG5WcN2K",
         "Chord Overstreet",
         "Hold On",
         "Hold On",
         "82",
         "198853",
         "False",
         "0.618",
         "0.443",
         "2",
         "-9.681",
         "1",
         "0.0526",
         "0.469",
         "0.0",
         "0.0829",
         "0.167",
         "119.949",
         "4",
         "acoustic"
        ]
       ],
       "shape": {
        "columns": 20,
        "rows": 5
       }
      },
      "text/html": [
       "<div>\n",
       "<style scoped>\n",
       "    .dataframe tbody tr th:only-of-type {\n",
       "        vertical-align: middle;\n",
       "    }\n",
       "\n",
       "    .dataframe tbody tr th {\n",
       "        vertical-align: top;\n",
       "    }\n",
       "\n",
       "    .dataframe thead th {\n",
       "        text-align: right;\n",
       "    }\n",
       "</style>\n",
       "<table border=\"1\" class=\"dataframe\">\n",
       "  <thead>\n",
       "    <tr style=\"text-align: right;\">\n",
       "      <th></th>\n",
       "      <th>track_id</th>\n",
       "      <th>artists</th>\n",
       "      <th>album_name</th>\n",
       "      <th>track_name</th>\n",
       "      <th>popularity</th>\n",
       "      <th>duration_ms</th>\n",
       "      <th>explicit</th>\n",
       "      <th>danceability</th>\n",
       "      <th>energy</th>\n",
       "      <th>key</th>\n",
       "      <th>loudness</th>\n",
       "      <th>mode</th>\n",
       "      <th>speechiness</th>\n",
       "      <th>acousticness</th>\n",
       "      <th>instrumentalness</th>\n",
       "      <th>liveness</th>\n",
       "      <th>valence</th>\n",
       "      <th>tempo</th>\n",
       "      <th>time_signature</th>\n",
       "      <th>track_genre</th>\n",
       "    </tr>\n",
       "  </thead>\n",
       "  <tbody>\n",
       "    <tr>\n",
       "      <th>0</th>\n",
       "      <td>5SuOikwiRyPMVoIQDJUgSV</td>\n",
       "      <td>Gen Hoshino</td>\n",
       "      <td>Comedy</td>\n",
       "      <td>Comedy</td>\n",
       "      <td>73</td>\n",
       "      <td>230666</td>\n",
       "      <td>False</td>\n",
       "      <td>0.676</td>\n",
       "      <td>0.4610</td>\n",
       "      <td>1</td>\n",
       "      <td>-6.746</td>\n",
       "      <td>0</td>\n",
       "      <td>0.1430</td>\n",
       "      <td>0.0322</td>\n",
       "      <td>0.000001</td>\n",
       "      <td>0.3580</td>\n",
       "      <td>0.715</td>\n",
       "      <td>87.917</td>\n",
       "      <td>4</td>\n",
       "      <td>acoustic</td>\n",
       "    </tr>\n",
       "    <tr>\n",
       "      <th>1</th>\n",
       "      <td>4qPNDBW1i3p13qLCt0Ki3A</td>\n",
       "      <td>Ben Woodward</td>\n",
       "      <td>Ghost (Acoustic)</td>\n",
       "      <td>Ghost - Acoustic</td>\n",
       "      <td>55</td>\n",
       "      <td>149610</td>\n",
       "      <td>False</td>\n",
       "      <td>0.420</td>\n",
       "      <td>0.1660</td>\n",
       "      <td>1</td>\n",
       "      <td>-17.235</td>\n",
       "      <td>1</td>\n",
       "      <td>0.0763</td>\n",
       "      <td>0.9240</td>\n",
       "      <td>0.000006</td>\n",
       "      <td>0.1010</td>\n",
       "      <td>0.267</td>\n",
       "      <td>77.489</td>\n",
       "      <td>4</td>\n",
       "      <td>acoustic</td>\n",
       "    </tr>\n",
       "    <tr>\n",
       "      <th>2</th>\n",
       "      <td>1iJBSr7s7jYXzM8EGcbK5b</td>\n",
       "      <td>Ingrid Michaelson;ZAYN</td>\n",
       "      <td>To Begin Again</td>\n",
       "      <td>To Begin Again</td>\n",
       "      <td>57</td>\n",
       "      <td>210826</td>\n",
       "      <td>False</td>\n",
       "      <td>0.438</td>\n",
       "      <td>0.3590</td>\n",
       "      <td>0</td>\n",
       "      <td>-9.734</td>\n",
       "      <td>1</td>\n",
       "      <td>0.0557</td>\n",
       "      <td>0.2100</td>\n",
       "      <td>0.000000</td>\n",
       "      <td>0.1170</td>\n",
       "      <td>0.120</td>\n",
       "      <td>76.332</td>\n",
       "      <td>4</td>\n",
       "      <td>acoustic</td>\n",
       "    </tr>\n",
       "    <tr>\n",
       "      <th>3</th>\n",
       "      <td>6lfxq3CG4xtTiEg7opyCyx</td>\n",
       "      <td>Kina Grannis</td>\n",
       "      <td>Crazy Rich Asians (Original Motion Picture Sou...</td>\n",
       "      <td>Can't Help Falling In Love</td>\n",
       "      <td>71</td>\n",
       "      <td>201933</td>\n",
       "      <td>False</td>\n",
       "      <td>0.266</td>\n",
       "      <td>0.0596</td>\n",
       "      <td>0</td>\n",
       "      <td>-18.515</td>\n",
       "      <td>1</td>\n",
       "      <td>0.0363</td>\n",
       "      <td>0.9050</td>\n",
       "      <td>0.000071</td>\n",
       "      <td>0.1320</td>\n",
       "      <td>0.143</td>\n",
       "      <td>181.740</td>\n",
       "      <td>3</td>\n",
       "      <td>acoustic</td>\n",
       "    </tr>\n",
       "    <tr>\n",
       "      <th>4</th>\n",
       "      <td>5vjLSffimiIP26QG5WcN2K</td>\n",
       "      <td>Chord Overstreet</td>\n",
       "      <td>Hold On</td>\n",
       "      <td>Hold On</td>\n",
       "      <td>82</td>\n",
       "      <td>198853</td>\n",
       "      <td>False</td>\n",
       "      <td>0.618</td>\n",
       "      <td>0.4430</td>\n",
       "      <td>2</td>\n",
       "      <td>-9.681</td>\n",
       "      <td>1</td>\n",
       "      <td>0.0526</td>\n",
       "      <td>0.4690</td>\n",
       "      <td>0.000000</td>\n",
       "      <td>0.0829</td>\n",
       "      <td>0.167</td>\n",
       "      <td>119.949</td>\n",
       "      <td>4</td>\n",
       "      <td>acoustic</td>\n",
       "    </tr>\n",
       "  </tbody>\n",
       "</table>\n",
       "</div>"
      ],
      "text/plain": [
       "                 track_id                 artists  \\\n",
       "0  5SuOikwiRyPMVoIQDJUgSV             Gen Hoshino   \n",
       "1  4qPNDBW1i3p13qLCt0Ki3A            Ben Woodward   \n",
       "2  1iJBSr7s7jYXzM8EGcbK5b  Ingrid Michaelson;ZAYN   \n",
       "3  6lfxq3CG4xtTiEg7opyCyx            Kina Grannis   \n",
       "4  5vjLSffimiIP26QG5WcN2K        Chord Overstreet   \n",
       "\n",
       "                                          album_name  \\\n",
       "0                                             Comedy   \n",
       "1                                   Ghost (Acoustic)   \n",
       "2                                     To Begin Again   \n",
       "3  Crazy Rich Asians (Original Motion Picture Sou...   \n",
       "4                                            Hold On   \n",
       "\n",
       "                   track_name  popularity  duration_ms  explicit  \\\n",
       "0                      Comedy          73       230666     False   \n",
       "1            Ghost - Acoustic          55       149610     False   \n",
       "2              To Begin Again          57       210826     False   \n",
       "3  Can't Help Falling In Love          71       201933     False   \n",
       "4                     Hold On          82       198853     False   \n",
       "\n",
       "   danceability  energy  key  loudness  mode  speechiness  acousticness  \\\n",
       "0         0.676  0.4610    1    -6.746     0       0.1430        0.0322   \n",
       "1         0.420  0.1660    1   -17.235     1       0.0763        0.9240   \n",
       "2         0.438  0.3590    0    -9.734     1       0.0557        0.2100   \n",
       "3         0.266  0.0596    0   -18.515     1       0.0363        0.9050   \n",
       "4         0.618  0.4430    2    -9.681     1       0.0526        0.4690   \n",
       "\n",
       "   instrumentalness  liveness  valence    tempo  time_signature track_genre  \n",
       "0          0.000001    0.3580    0.715   87.917               4    acoustic  \n",
       "1          0.000006    0.1010    0.267   77.489               4    acoustic  \n",
       "2          0.000000    0.1170    0.120   76.332               4    acoustic  \n",
       "3          0.000071    0.1320    0.143  181.740               3    acoustic  \n",
       "4          0.000000    0.0829    0.167  119.949               4    acoustic  "
      ]
     },
     "execution_count": 67,
     "metadata": {},
     "output_type": "execute_result"
    }
   ],
   "source": [
    "import pandas as pd\n",
    "df=pd.read_csv(\"dataset.csv\")\n",
    "df.head()"
   ]
  },
  {
   "cell_type": "code",
   "execution_count": 68,
   "id": "9fbda92d",
   "metadata": {},
   "outputs": [
    {
     "data": {
      "text/plain": [
       "(113999, 20)"
      ]
     },
     "execution_count": 68,
     "metadata": {},
     "output_type": "execute_result"
    }
   ],
   "source": [
    "df.shape"
   ]
  },
  {
   "cell_type": "code",
   "execution_count": 69,
   "id": "ce8ec6c7",
   "metadata": {},
   "outputs": [
    {
     "data": {
      "text/plain": [
       "['track_id',\n",
       " 'artists',\n",
       " 'album_name',\n",
       " 'track_name',\n",
       " 'popularity',\n",
       " 'duration_ms',\n",
       " 'explicit',\n",
       " 'danceability',\n",
       " 'energy',\n",
       " 'key',\n",
       " 'loudness',\n",
       " 'mode',\n",
       " 'speechiness',\n",
       " 'acousticness',\n",
       " 'instrumentalness',\n",
       " 'liveness',\n",
       " 'valence',\n",
       " 'tempo',\n",
       " 'time_signature',\n",
       " 'track_genre']"
      ]
     },
     "execution_count": 69,
     "metadata": {},
     "output_type": "execute_result"
    }
   ],
   "source": [
    "df.columns.tolist()"
   ]
  },
  {
   "cell_type": "code",
   "execution_count": 70,
   "id": "f2c3f690",
   "metadata": {},
   "outputs": [
    {
     "name": "stdout",
     "output_type": "stream",
     "text": [
      "<class 'pandas.core.frame.DataFrame'>\n",
      "RangeIndex: 113999 entries, 0 to 113998\n",
      "Data columns (total 20 columns):\n",
      " #   Column            Non-Null Count   Dtype  \n",
      "---  ------            --------------   -----  \n",
      " 0   track_id          113999 non-null  object \n",
      " 1   artists           113999 non-null  object \n",
      " 2   album_name        113999 non-null  object \n",
      " 3   track_name        113999 non-null  object \n",
      " 4   popularity        113999 non-null  int64  \n",
      " 5   duration_ms       113999 non-null  int64  \n",
      " 6   explicit          113999 non-null  bool   \n",
      " 7   danceability      113999 non-null  float64\n",
      " 8   energy            113999 non-null  float64\n",
      " 9   key               113999 non-null  int64  \n",
      " 10  loudness          113999 non-null  float64\n",
      " 11  mode              113999 non-null  int64  \n",
      " 12  speechiness       113999 non-null  float64\n",
      " 13  acousticness      113999 non-null  float64\n",
      " 14  instrumentalness  113999 non-null  float64\n",
      " 15  liveness          113999 non-null  float64\n",
      " 16  valence           113999 non-null  float64\n",
      " 17  tempo             113999 non-null  float64\n",
      " 18  time_signature    113999 non-null  int64  \n",
      " 19  track_genre       113999 non-null  object \n",
      "dtypes: bool(1), float64(9), int64(5), object(5)\n",
      "memory usage: 16.6+ MB\n"
     ]
    }
   ],
   "source": [
    "df.info()"
   ]
  },
  {
   "cell_type": "code",
   "execution_count": 71,
   "id": "67017b06",
   "metadata": {},
   "outputs": [
    {
     "data": {
      "application/vnd.microsoft.datawrangler.viewer.v0+json": {
       "columns": [
        {
         "name": "index",
         "rawType": "object",
         "type": "string"
        },
        {
         "name": "0",
         "rawType": "int64",
         "type": "integer"
        }
       ],
       "ref": "cadb242e-d19a-41fe-9c2f-a22bed39832b",
       "rows": [
        [
         "track_id",
         "0"
        ],
        [
         "artists",
         "0"
        ],
        [
         "album_name",
         "0"
        ],
        [
         "track_name",
         "0"
        ],
        [
         "popularity",
         "0"
        ],
        [
         "duration_ms",
         "0"
        ],
        [
         "explicit",
         "0"
        ],
        [
         "danceability",
         "0"
        ],
        [
         "energy",
         "0"
        ],
        [
         "key",
         "0"
        ],
        [
         "loudness",
         "0"
        ],
        [
         "mode",
         "0"
        ],
        [
         "speechiness",
         "0"
        ],
        [
         "acousticness",
         "0"
        ],
        [
         "instrumentalness",
         "0"
        ],
        [
         "liveness",
         "0"
        ],
        [
         "valence",
         "0"
        ],
        [
         "tempo",
         "0"
        ],
        [
         "time_signature",
         "0"
        ],
        [
         "track_genre",
         "0"
        ]
       ],
       "shape": {
        "columns": 1,
        "rows": 20
       }
      },
      "text/plain": [
       "track_id            0\n",
       "artists             0\n",
       "album_name          0\n",
       "track_name          0\n",
       "popularity          0\n",
       "duration_ms         0\n",
       "explicit            0\n",
       "danceability        0\n",
       "energy              0\n",
       "key                 0\n",
       "loudness            0\n",
       "mode                0\n",
       "speechiness         0\n",
       "acousticness        0\n",
       "instrumentalness    0\n",
       "liveness            0\n",
       "valence             0\n",
       "tempo               0\n",
       "time_signature      0\n",
       "track_genre         0\n",
       "dtype: int64"
      ]
     },
     "execution_count": 71,
     "metadata": {},
     "output_type": "execute_result"
    }
   ],
   "source": [
    "df.isnull().sum()"
   ]
  },
  {
   "cell_type": "code",
   "execution_count": 72,
   "id": "0fa63635",
   "metadata": {},
   "outputs": [],
   "source": [
    "df.columns = df.columns.str.strip().str.lower().str.replace(\" \", \"_\")"
   ]
  },
  {
   "cell_type": "code",
   "execution_count": 73,
   "id": "59a588a5",
   "metadata": {},
   "outputs": [
    {
     "data": {
      "application/vnd.microsoft.datawrangler.viewer.v0+json": {
       "columns": [
        {
         "name": "index",
         "rawType": "int64",
         "type": "integer"
        },
        {
         "name": "track_id",
         "rawType": "object",
         "type": "string"
        },
        {
         "name": "artists",
         "rawType": "object",
         "type": "string"
        },
        {
         "name": "album_name",
         "rawType": "object",
         "type": "string"
        },
        {
         "name": "track_name",
         "rawType": "object",
         "type": "string"
        },
        {
         "name": "popularity",
         "rawType": "int64",
         "type": "integer"
        },
        {
         "name": "duration_ms",
         "rawType": "int64",
         "type": "integer"
        },
        {
         "name": "explicit",
         "rawType": "bool",
         "type": "boolean"
        },
        {
         "name": "danceability",
         "rawType": "float64",
         "type": "float"
        },
        {
         "name": "energy",
         "rawType": "float64",
         "type": "float"
        },
        {
         "name": "key",
         "rawType": "int64",
         "type": "integer"
        },
        {
         "name": "loudness",
         "rawType": "float64",
         "type": "float"
        },
        {
         "name": "mode",
         "rawType": "int64",
         "type": "integer"
        },
        {
         "name": "speechiness",
         "rawType": "float64",
         "type": "float"
        },
        {
         "name": "acousticness",
         "rawType": "float64",
         "type": "float"
        },
        {
         "name": "instrumentalness",
         "rawType": "float64",
         "type": "float"
        },
        {
         "name": "liveness",
         "rawType": "float64",
         "type": "float"
        },
        {
         "name": "valence",
         "rawType": "float64",
         "type": "float"
        },
        {
         "name": "tempo",
         "rawType": "float64",
         "type": "float"
        },
        {
         "name": "time_signature",
         "rawType": "int64",
         "type": "integer"
        },
        {
         "name": "track_genre",
         "rawType": "object",
         "type": "string"
        }
       ],
       "ref": "bdb06f6b-85bb-4599-a788-91223fefa940",
       "rows": [
        [
         "25883",
         "6JMoEZRBV0JhA0AIu4QWPV",
         "Fantasy",
         "Casanova",
         "Casanova",
         "30",
         "223533",
         "False",
         "0.685",
         "0.881",
         "9",
         "-4.861",
         "1",
         "0.0491",
         "0.112",
         "0.0",
         "0.448",
         "0.772",
         "124.002",
         "4",
         "disco"
        ],
        [
         "110749",
         "1lK6R9b6oNANXOsFxSv427",
         "Dzp",
         "Roobaai - Single",
         "Roobaai",
         "33",
         "333913",
         "False",
         "0.425",
         "0.951",
         "1",
         "-7.194",
         "1",
         "0.0913",
         "0.0103",
         "0.107",
         "0.396",
         "0.357",
         "103.537",
         "3",
         "trance"
        ],
        [
         "113465",
         "4Aa5v0LJ8VoJAt68deFiPf",
         "Gateway Worship",
         "Heart Of Worship - 10,000 Reasons (Bless The Lord)",
         "10,000 Reasons (Bless The Lord)",
         "41",
         "322906",
         "False",
         "0.27",
         "0.264",
         "7",
         "-10.597",
         "1",
         "0.033",
         "0.224",
         "6.1e-06",
         "0.109",
         "0.162",
         "73.016",
         "4",
         "world-music"
        ],
        [
         "90770",
         "2ahDGFCrRQAu9gH9RqeSYT",
         "Angelica Maria",
         "Amame",
         "Edi Edi",
         "29",
         "149328",
         "False",
         "0.53",
         "0.744",
         "2",
         "-7.193",
         "1",
         "0.0432",
         "0.85",
         "0.0",
         "0.214",
         "0.975",
         "141.812",
         "4",
         "rock-n-roll"
        ],
        [
         "11280",
         "2CTOa3CEBts3p1NyTVLTXU",
         "Laura Marling",
         "I Speak Because I Can",
         "What He Wrote",
         "58",
         "247123",
         "False",
         "0.458",
         "0.0987",
         "9",
         "-16.021",
         "0",
         "0.0376",
         "0.948",
         "0.00954",
         "0.109",
         "0.349",
         "139.987",
         "3",
         "british"
        ]
       ],
       "shape": {
        "columns": 20,
        "rows": 5
       }
      },
      "text/html": [
       "<div>\n",
       "<style scoped>\n",
       "    .dataframe tbody tr th:only-of-type {\n",
       "        vertical-align: middle;\n",
       "    }\n",
       "\n",
       "    .dataframe tbody tr th {\n",
       "        vertical-align: top;\n",
       "    }\n",
       "\n",
       "    .dataframe thead th {\n",
       "        text-align: right;\n",
       "    }\n",
       "</style>\n",
       "<table border=\"1\" class=\"dataframe\">\n",
       "  <thead>\n",
       "    <tr style=\"text-align: right;\">\n",
       "      <th></th>\n",
       "      <th>track_id</th>\n",
       "      <th>artists</th>\n",
       "      <th>album_name</th>\n",
       "      <th>track_name</th>\n",
       "      <th>popularity</th>\n",
       "      <th>duration_ms</th>\n",
       "      <th>explicit</th>\n",
       "      <th>danceability</th>\n",
       "      <th>energy</th>\n",
       "      <th>key</th>\n",
       "      <th>loudness</th>\n",
       "      <th>mode</th>\n",
       "      <th>speechiness</th>\n",
       "      <th>acousticness</th>\n",
       "      <th>instrumentalness</th>\n",
       "      <th>liveness</th>\n",
       "      <th>valence</th>\n",
       "      <th>tempo</th>\n",
       "      <th>time_signature</th>\n",
       "      <th>track_genre</th>\n",
       "    </tr>\n",
       "  </thead>\n",
       "  <tbody>\n",
       "    <tr>\n",
       "      <th>25883</th>\n",
       "      <td>6JMoEZRBV0JhA0AIu4QWPV</td>\n",
       "      <td>Fantasy</td>\n",
       "      <td>Casanova</td>\n",
       "      <td>Casanova</td>\n",
       "      <td>30</td>\n",
       "      <td>223533</td>\n",
       "      <td>False</td>\n",
       "      <td>0.685</td>\n",
       "      <td>0.8810</td>\n",
       "      <td>9</td>\n",
       "      <td>-4.861</td>\n",
       "      <td>1</td>\n",
       "      <td>0.0491</td>\n",
       "      <td>0.1120</td>\n",
       "      <td>0.000000</td>\n",
       "      <td>0.448</td>\n",
       "      <td>0.772</td>\n",
       "      <td>124.002</td>\n",
       "      <td>4</td>\n",
       "      <td>disco</td>\n",
       "    </tr>\n",
       "    <tr>\n",
       "      <th>110749</th>\n",
       "      <td>1lK6R9b6oNANXOsFxSv427</td>\n",
       "      <td>Dzp</td>\n",
       "      <td>Roobaai - Single</td>\n",
       "      <td>Roobaai</td>\n",
       "      <td>33</td>\n",
       "      <td>333913</td>\n",
       "      <td>False</td>\n",
       "      <td>0.425</td>\n",
       "      <td>0.9510</td>\n",
       "      <td>1</td>\n",
       "      <td>-7.194</td>\n",
       "      <td>1</td>\n",
       "      <td>0.0913</td>\n",
       "      <td>0.0103</td>\n",
       "      <td>0.107000</td>\n",
       "      <td>0.396</td>\n",
       "      <td>0.357</td>\n",
       "      <td>103.537</td>\n",
       "      <td>3</td>\n",
       "      <td>trance</td>\n",
       "    </tr>\n",
       "    <tr>\n",
       "      <th>113465</th>\n",
       "      <td>4Aa5v0LJ8VoJAt68deFiPf</td>\n",
       "      <td>Gateway Worship</td>\n",
       "      <td>Heart Of Worship - 10,000 Reasons (Bless The L...</td>\n",
       "      <td>10,000 Reasons (Bless The Lord)</td>\n",
       "      <td>41</td>\n",
       "      <td>322906</td>\n",
       "      <td>False</td>\n",
       "      <td>0.270</td>\n",
       "      <td>0.2640</td>\n",
       "      <td>7</td>\n",
       "      <td>-10.597</td>\n",
       "      <td>1</td>\n",
       "      <td>0.0330</td>\n",
       "      <td>0.2240</td>\n",
       "      <td>0.000006</td>\n",
       "      <td>0.109</td>\n",
       "      <td>0.162</td>\n",
       "      <td>73.016</td>\n",
       "      <td>4</td>\n",
       "      <td>world-music</td>\n",
       "    </tr>\n",
       "    <tr>\n",
       "      <th>90770</th>\n",
       "      <td>2ahDGFCrRQAu9gH9RqeSYT</td>\n",
       "      <td>Angelica Maria</td>\n",
       "      <td>Amame</td>\n",
       "      <td>Edi Edi</td>\n",
       "      <td>29</td>\n",
       "      <td>149328</td>\n",
       "      <td>False</td>\n",
       "      <td>0.530</td>\n",
       "      <td>0.7440</td>\n",
       "      <td>2</td>\n",
       "      <td>-7.193</td>\n",
       "      <td>1</td>\n",
       "      <td>0.0432</td>\n",
       "      <td>0.8500</td>\n",
       "      <td>0.000000</td>\n",
       "      <td>0.214</td>\n",
       "      <td>0.975</td>\n",
       "      <td>141.812</td>\n",
       "      <td>4</td>\n",
       "      <td>rock-n-roll</td>\n",
       "    </tr>\n",
       "    <tr>\n",
       "      <th>11280</th>\n",
       "      <td>2CTOa3CEBts3p1NyTVLTXU</td>\n",
       "      <td>Laura Marling</td>\n",
       "      <td>I Speak Because I Can</td>\n",
       "      <td>What He Wrote</td>\n",
       "      <td>58</td>\n",
       "      <td>247123</td>\n",
       "      <td>False</td>\n",
       "      <td>0.458</td>\n",
       "      <td>0.0987</td>\n",
       "      <td>9</td>\n",
       "      <td>-16.021</td>\n",
       "      <td>0</td>\n",
       "      <td>0.0376</td>\n",
       "      <td>0.9480</td>\n",
       "      <td>0.009540</td>\n",
       "      <td>0.109</td>\n",
       "      <td>0.349</td>\n",
       "      <td>139.987</td>\n",
       "      <td>3</td>\n",
       "      <td>british</td>\n",
       "    </tr>\n",
       "  </tbody>\n",
       "</table>\n",
       "</div>"
      ],
      "text/plain": [
       "                      track_id          artists  \\\n",
       "25883   6JMoEZRBV0JhA0AIu4QWPV          Fantasy   \n",
       "110749  1lK6R9b6oNANXOsFxSv427              Dzp   \n",
       "113465  4Aa5v0LJ8VoJAt68deFiPf  Gateway Worship   \n",
       "90770   2ahDGFCrRQAu9gH9RqeSYT   Angelica Maria   \n",
       "11280   2CTOa3CEBts3p1NyTVLTXU    Laura Marling   \n",
       "\n",
       "                                               album_name  \\\n",
       "25883                                            Casanova   \n",
       "110749                                   Roobaai - Single   \n",
       "113465  Heart Of Worship - 10,000 Reasons (Bless The L...   \n",
       "90770                                               Amame   \n",
       "11280                               I Speak Because I Can   \n",
       "\n",
       "                             track_name  popularity  duration_ms  explicit  \\\n",
       "25883                          Casanova          30       223533     False   \n",
       "110749                          Roobaai          33       333913     False   \n",
       "113465  10,000 Reasons (Bless The Lord)          41       322906     False   \n",
       "90770                           Edi Edi          29       149328     False   \n",
       "11280                     What He Wrote          58       247123     False   \n",
       "\n",
       "        danceability  energy  key  loudness  mode  speechiness  acousticness  \\\n",
       "25883          0.685  0.8810    9    -4.861     1       0.0491        0.1120   \n",
       "110749         0.425  0.9510    1    -7.194     1       0.0913        0.0103   \n",
       "113465         0.270  0.2640    7   -10.597     1       0.0330        0.2240   \n",
       "90770          0.530  0.7440    2    -7.193     1       0.0432        0.8500   \n",
       "11280          0.458  0.0987    9   -16.021     0       0.0376        0.9480   \n",
       "\n",
       "        instrumentalness  liveness  valence    tempo  time_signature  \\\n",
       "25883           0.000000     0.448    0.772  124.002               4   \n",
       "110749          0.107000     0.396    0.357  103.537               3   \n",
       "113465          0.000006     0.109    0.162   73.016               4   \n",
       "90770           0.000000     0.214    0.975  141.812               4   \n",
       "11280           0.009540     0.109    0.349  139.987               3   \n",
       "\n",
       "        track_genre  \n",
       "25883         disco  \n",
       "110749       trance  \n",
       "113465  world-music  \n",
       "90770   rock-n-roll  \n",
       "11280       british  "
      ]
     },
     "execution_count": 73,
     "metadata": {},
     "output_type": "execute_result"
    }
   ],
   "source": [
    "df.sample(5)"
   ]
  },
  {
   "cell_type": "code",
   "execution_count": 74,
   "id": "9aacde2b",
   "metadata": {},
   "outputs": [],
   "source": [
    "df=df.drop_duplicates()"
   ]
  },
  {
   "cell_type": "code",
   "execution_count": 75,
   "id": "c0bb1a72",
   "metadata": {},
   "outputs": [
    {
     "data": {
      "text/plain": [
       "(113549, 20)"
      ]
     },
     "execution_count": 75,
     "metadata": {},
     "output_type": "execute_result"
    }
   ],
   "source": [
    "df.shape"
   ]
  },
  {
   "cell_type": "code",
   "execution_count": 76,
   "id": "bbf5086b",
   "metadata": {},
   "outputs": [
    {
     "name": "stdout",
     "output_type": "stream",
     "text": [
      "<class 'pandas.core.frame.DataFrame'>\n",
      "Index: 113549 entries, 0 to 113998\n",
      "Data columns (total 20 columns):\n",
      " #   Column            Non-Null Count   Dtype  \n",
      "---  ------            --------------   -----  \n",
      " 0   track_id          113549 non-null  object \n",
      " 1   artists           113549 non-null  object \n",
      " 2   album_name        113549 non-null  object \n",
      " 3   track_name        113549 non-null  object \n",
      " 4   popularity        113549 non-null  int64  \n",
      " 5   duration_ms       113549 non-null  int64  \n",
      " 6   explicit          113549 non-null  bool   \n",
      " 7   danceability      113549 non-null  float64\n",
      " 8   energy            113549 non-null  float64\n",
      " 9   key               113549 non-null  int64  \n",
      " 10  loudness          113549 non-null  float64\n",
      " 11  mode              113549 non-null  int64  \n",
      " 12  speechiness       113549 non-null  float64\n",
      " 13  acousticness      113549 non-null  float64\n",
      " 14  instrumentalness  113549 non-null  float64\n",
      " 15  liveness          113549 non-null  float64\n",
      " 16  valence           113549 non-null  float64\n",
      " 17  tempo             113549 non-null  float64\n",
      " 18  time_signature    113549 non-null  int64  \n",
      " 19  track_genre       113549 non-null  object \n",
      "dtypes: bool(1), float64(9), int64(5), object(5)\n",
      "memory usage: 17.4+ MB\n"
     ]
    }
   ],
   "source": [
    "df.info()"
   ]
  },
  {
   "cell_type": "code",
   "execution_count": 77,
   "id": "383b0a28",
   "metadata": {},
   "outputs": [
    {
     "data": {
      "application/vnd.microsoft.datawrangler.viewer.v0+json": {
       "columns": [
        {
         "name": "index",
         "rawType": "int64",
         "type": "integer"
        },
        {
         "name": "duration_ms",
         "rawType": "int64",
         "type": "integer"
        },
        {
         "name": "explicit",
         "rawType": "bool",
         "type": "boolean"
        },
        {
         "name": "danceability",
         "rawType": "float64",
         "type": "float"
        },
        {
         "name": "energy",
         "rawType": "float64",
         "type": "float"
        },
        {
         "name": "key",
         "rawType": "int64",
         "type": "integer"
        },
        {
         "name": "loudness",
         "rawType": "float64",
         "type": "float"
        },
        {
         "name": "mode",
         "rawType": "int64",
         "type": "integer"
        },
        {
         "name": "speechiness",
         "rawType": "float64",
         "type": "float"
        },
        {
         "name": "acousticness",
         "rawType": "float64",
         "type": "float"
        },
        {
         "name": "instrumentalness",
         "rawType": "float64",
         "type": "float"
        },
        {
         "name": "liveness",
         "rawType": "float64",
         "type": "float"
        },
        {
         "name": "valence",
         "rawType": "float64",
         "type": "float"
        },
        {
         "name": "tempo",
         "rawType": "float64",
         "type": "float"
        },
        {
         "name": "time_signature",
         "rawType": "int64",
         "type": "integer"
        },
        {
         "name": "track_genre",
         "rawType": "object",
         "type": "string"
        }
       ],
       "ref": "687272b5-9bfc-4b05-abd0-04b2a033e5ad",
       "rows": [
        [
         "96059",
         "198533",
         "False",
         "0.698",
         "0.744",
         "2",
         "-6.949",
         "1",
         "0.0509",
         "0.652",
         "0.0",
         "0.125",
         "0.945",
         "107.065",
         "4",
         "samba"
        ],
        [
         "81497",
         "184390",
         "False",
         "0.692",
         "0.883",
         "7",
         "-4.698",
         "1",
         "0.0582",
         "0.0512",
         "0.0",
         "0.228",
         "0.614",
         "122.984",
         "4",
         "pop"
        ],
        [
         "25907",
         "247960",
         "False",
         "0.659",
         "0.788",
         "0",
         "-7.871",
         "1",
         "0.0265",
         "0.0536",
         "0.0124",
         "0.317",
         "0.963",
         "116.241",
         "4",
         "disco"
        ],
        [
         "35330",
         "238080",
         "False",
         "0.675",
         "0.476",
         "7",
         "-8.806",
         "1",
         "0.0312",
         "0.778",
         "0.0",
         "0.682",
         "0.485",
         "119.887",
         "4",
         "forro"
        ],
        [
         "34209",
         "287634",
         "False",
         "0.587",
         "0.497",
         "6",
         "-10.757",
         "1",
         "0.0307",
         "0.723",
         "0.782",
         "0.142",
         "0.401",
         "144.972",
         "3",
         "folk"
        ]
       ],
       "shape": {
        "columns": 15,
        "rows": 5
       }
      },
      "text/html": [
       "<div>\n",
       "<style scoped>\n",
       "    .dataframe tbody tr th:only-of-type {\n",
       "        vertical-align: middle;\n",
       "    }\n",
       "\n",
       "    .dataframe tbody tr th {\n",
       "        vertical-align: top;\n",
       "    }\n",
       "\n",
       "    .dataframe thead th {\n",
       "        text-align: right;\n",
       "    }\n",
       "</style>\n",
       "<table border=\"1\" class=\"dataframe\">\n",
       "  <thead>\n",
       "    <tr style=\"text-align: right;\">\n",
       "      <th></th>\n",
       "      <th>duration_ms</th>\n",
       "      <th>explicit</th>\n",
       "      <th>danceability</th>\n",
       "      <th>energy</th>\n",
       "      <th>key</th>\n",
       "      <th>loudness</th>\n",
       "      <th>mode</th>\n",
       "      <th>speechiness</th>\n",
       "      <th>acousticness</th>\n",
       "      <th>instrumentalness</th>\n",
       "      <th>liveness</th>\n",
       "      <th>valence</th>\n",
       "      <th>tempo</th>\n",
       "      <th>time_signature</th>\n",
       "      <th>track_genre</th>\n",
       "    </tr>\n",
       "  </thead>\n",
       "  <tbody>\n",
       "    <tr>\n",
       "      <th>96059</th>\n",
       "      <td>198533</td>\n",
       "      <td>False</td>\n",
       "      <td>0.698</td>\n",
       "      <td>0.744</td>\n",
       "      <td>2</td>\n",
       "      <td>-6.949</td>\n",
       "      <td>1</td>\n",
       "      <td>0.0509</td>\n",
       "      <td>0.6520</td>\n",
       "      <td>0.0000</td>\n",
       "      <td>0.125</td>\n",
       "      <td>0.945</td>\n",
       "      <td>107.065</td>\n",
       "      <td>4</td>\n",
       "      <td>samba</td>\n",
       "    </tr>\n",
       "    <tr>\n",
       "      <th>81497</th>\n",
       "      <td>184390</td>\n",
       "      <td>False</td>\n",
       "      <td>0.692</td>\n",
       "      <td>0.883</td>\n",
       "      <td>7</td>\n",
       "      <td>-4.698</td>\n",
       "      <td>1</td>\n",
       "      <td>0.0582</td>\n",
       "      <td>0.0512</td>\n",
       "      <td>0.0000</td>\n",
       "      <td>0.228</td>\n",
       "      <td>0.614</td>\n",
       "      <td>122.984</td>\n",
       "      <td>4</td>\n",
       "      <td>pop</td>\n",
       "    </tr>\n",
       "    <tr>\n",
       "      <th>25907</th>\n",
       "      <td>247960</td>\n",
       "      <td>False</td>\n",
       "      <td>0.659</td>\n",
       "      <td>0.788</td>\n",
       "      <td>0</td>\n",
       "      <td>-7.871</td>\n",
       "      <td>1</td>\n",
       "      <td>0.0265</td>\n",
       "      <td>0.0536</td>\n",
       "      <td>0.0124</td>\n",
       "      <td>0.317</td>\n",
       "      <td>0.963</td>\n",
       "      <td>116.241</td>\n",
       "      <td>4</td>\n",
       "      <td>disco</td>\n",
       "    </tr>\n",
       "    <tr>\n",
       "      <th>35330</th>\n",
       "      <td>238080</td>\n",
       "      <td>False</td>\n",
       "      <td>0.675</td>\n",
       "      <td>0.476</td>\n",
       "      <td>7</td>\n",
       "      <td>-8.806</td>\n",
       "      <td>1</td>\n",
       "      <td>0.0312</td>\n",
       "      <td>0.7780</td>\n",
       "      <td>0.0000</td>\n",
       "      <td>0.682</td>\n",
       "      <td>0.485</td>\n",
       "      <td>119.887</td>\n",
       "      <td>4</td>\n",
       "      <td>forro</td>\n",
       "    </tr>\n",
       "    <tr>\n",
       "      <th>34209</th>\n",
       "      <td>287634</td>\n",
       "      <td>False</td>\n",
       "      <td>0.587</td>\n",
       "      <td>0.497</td>\n",
       "      <td>6</td>\n",
       "      <td>-10.757</td>\n",
       "      <td>1</td>\n",
       "      <td>0.0307</td>\n",
       "      <td>0.7230</td>\n",
       "      <td>0.7820</td>\n",
       "      <td>0.142</td>\n",
       "      <td>0.401</td>\n",
       "      <td>144.972</td>\n",
       "      <td>3</td>\n",
       "      <td>folk</td>\n",
       "    </tr>\n",
       "  </tbody>\n",
       "</table>\n",
       "</div>"
      ],
      "text/plain": [
       "       duration_ms  explicit  danceability  energy  key  loudness  mode  \\\n",
       "96059       198533     False         0.698   0.744    2    -6.949     1   \n",
       "81497       184390     False         0.692   0.883    7    -4.698     1   \n",
       "25907       247960     False         0.659   0.788    0    -7.871     1   \n",
       "35330       238080     False         0.675   0.476    7    -8.806     1   \n",
       "34209       287634     False         0.587   0.497    6   -10.757     1   \n",
       "\n",
       "       speechiness  acousticness  instrumentalness  liveness  valence  \\\n",
       "96059       0.0509        0.6520            0.0000     0.125    0.945   \n",
       "81497       0.0582        0.0512            0.0000     0.228    0.614   \n",
       "25907       0.0265        0.0536            0.0124     0.317    0.963   \n",
       "35330       0.0312        0.7780            0.0000     0.682    0.485   \n",
       "34209       0.0307        0.7230            0.7820     0.142    0.401   \n",
       "\n",
       "         tempo  time_signature track_genre  \n",
       "96059  107.065               4       samba  \n",
       "81497  122.984               4         pop  \n",
       "25907  116.241               4       disco  \n",
       "35330  119.887               4       forro  \n",
       "34209  144.972               3        folk  "
      ]
     },
     "execution_count": 77,
     "metadata": {},
     "output_type": "execute_result"
    }
   ],
   "source": [
    "drop_cols = ['track_id', 'track_name', 'album_name', 'artists','popularity']\n",
    "df = df.drop(columns=drop_cols)\n",
    "\n",
    "df.sample(5)\n"
   ]
  },
  {
   "cell_type": "code",
   "execution_count": 78,
   "id": "e8d58ed0",
   "metadata": {},
   "outputs": [
    {
     "data": {
      "application/vnd.microsoft.datawrangler.viewer.v0+json": {
       "columns": [
        {
         "name": "index",
         "rawType": "int64",
         "type": "integer"
        },
        {
         "name": "duration_ms",
         "rawType": "int64",
         "type": "integer"
        },
        {
         "name": "explicit",
         "rawType": "bool",
         "type": "boolean"
        },
        {
         "name": "danceability",
         "rawType": "float64",
         "type": "float"
        },
        {
         "name": "energy",
         "rawType": "float64",
         "type": "float"
        },
        {
         "name": "key",
         "rawType": "int64",
         "type": "integer"
        },
        {
         "name": "loudness",
         "rawType": "float64",
         "type": "float"
        },
        {
         "name": "mode",
         "rawType": "int64",
         "type": "integer"
        },
        {
         "name": "speechiness",
         "rawType": "float64",
         "type": "float"
        },
        {
         "name": "acousticness",
         "rawType": "float64",
         "type": "float"
        },
        {
         "name": "instrumentalness",
         "rawType": "float64",
         "type": "float"
        },
        {
         "name": "liveness",
         "rawType": "float64",
         "type": "float"
        },
        {
         "name": "valence",
         "rawType": "float64",
         "type": "float"
        },
        {
         "name": "tempo",
         "rawType": "float64",
         "type": "float"
        },
        {
         "name": "time_signature",
         "rawType": "int64",
         "type": "integer"
        },
        {
         "name": "track_genre",
         "rawType": "object",
         "type": "string"
        }
       ],
       "ref": "f0f501f8-ef4b-4ef9-a11c-eaa0facb2c9e",
       "rows": [
        [
         "99347",
         "253626",
         "False",
         "0.44",
         "0.838",
         "9",
         "-6.196",
         "1",
         "0.0423",
         "0.0956",
         "0.0",
         "0.473",
         "0.619",
         "138.908",
         "4",
         "singer-songwriter"
        ],
        [
         "47291",
         "230986",
         "False",
         "0.503",
         "0.722",
         "7",
         "-5.813",
         "1",
         "0.0248",
         "0.00214",
         "8.15e-06",
         "0.116",
         "0.616",
         "99.966",
         "4",
         "hard-rock"
        ],
        [
         "94280",
         "180035",
         "True",
         "0.723",
         "0.54",
         "10",
         "-12.31",
         "1",
         "0.28",
         "0.905",
         "0.0473",
         "0.251",
         "0.711",
         "143.93",
         "4",
         "sad"
        ],
        [
         "49520",
         "180375",
         "False",
         "0.569",
         "0.969",
         "1",
         "-3.59",
         "0",
         "0.319",
         "0.0372",
         "6.23e-05",
         "0.179",
         "0.205",
         "160.013",
         "4",
         "hardstyle"
        ],
        [
         "51923",
         "189800",
         "False",
         "0.873",
         "0.658",
         "4",
         "-8.031",
         "0",
         "0.108",
         "0.00858",
         "0.0061",
         "0.0999",
         "0.483",
         "104.033",
         "4",
         "hip-hop"
        ]
       ],
       "shape": {
        "columns": 15,
        "rows": 5
       }
      },
      "text/html": [
       "<div>\n",
       "<style scoped>\n",
       "    .dataframe tbody tr th:only-of-type {\n",
       "        vertical-align: middle;\n",
       "    }\n",
       "\n",
       "    .dataframe tbody tr th {\n",
       "        vertical-align: top;\n",
       "    }\n",
       "\n",
       "    .dataframe thead th {\n",
       "        text-align: right;\n",
       "    }\n",
       "</style>\n",
       "<table border=\"1\" class=\"dataframe\">\n",
       "  <thead>\n",
       "    <tr style=\"text-align: right;\">\n",
       "      <th></th>\n",
       "      <th>duration_ms</th>\n",
       "      <th>explicit</th>\n",
       "      <th>danceability</th>\n",
       "      <th>energy</th>\n",
       "      <th>key</th>\n",
       "      <th>loudness</th>\n",
       "      <th>mode</th>\n",
       "      <th>speechiness</th>\n",
       "      <th>acousticness</th>\n",
       "      <th>instrumentalness</th>\n",
       "      <th>liveness</th>\n",
       "      <th>valence</th>\n",
       "      <th>tempo</th>\n",
       "      <th>time_signature</th>\n",
       "      <th>track_genre</th>\n",
       "    </tr>\n",
       "  </thead>\n",
       "  <tbody>\n",
       "    <tr>\n",
       "      <th>99347</th>\n",
       "      <td>253626</td>\n",
       "      <td>False</td>\n",
       "      <td>0.440</td>\n",
       "      <td>0.838</td>\n",
       "      <td>9</td>\n",
       "      <td>-6.196</td>\n",
       "      <td>1</td>\n",
       "      <td>0.0423</td>\n",
       "      <td>0.09560</td>\n",
       "      <td>0.000000</td>\n",
       "      <td>0.4730</td>\n",
       "      <td>0.619</td>\n",
       "      <td>138.908</td>\n",
       "      <td>4</td>\n",
       "      <td>singer-songwriter</td>\n",
       "    </tr>\n",
       "    <tr>\n",
       "      <th>47291</th>\n",
       "      <td>230986</td>\n",
       "      <td>False</td>\n",
       "      <td>0.503</td>\n",
       "      <td>0.722</td>\n",
       "      <td>7</td>\n",
       "      <td>-5.813</td>\n",
       "      <td>1</td>\n",
       "      <td>0.0248</td>\n",
       "      <td>0.00214</td>\n",
       "      <td>0.000008</td>\n",
       "      <td>0.1160</td>\n",
       "      <td>0.616</td>\n",
       "      <td>99.966</td>\n",
       "      <td>4</td>\n",
       "      <td>hard-rock</td>\n",
       "    </tr>\n",
       "    <tr>\n",
       "      <th>94280</th>\n",
       "      <td>180035</td>\n",
       "      <td>True</td>\n",
       "      <td>0.723</td>\n",
       "      <td>0.540</td>\n",
       "      <td>10</td>\n",
       "      <td>-12.310</td>\n",
       "      <td>1</td>\n",
       "      <td>0.2800</td>\n",
       "      <td>0.90500</td>\n",
       "      <td>0.047300</td>\n",
       "      <td>0.2510</td>\n",
       "      <td>0.711</td>\n",
       "      <td>143.930</td>\n",
       "      <td>4</td>\n",
       "      <td>sad</td>\n",
       "    </tr>\n",
       "    <tr>\n",
       "      <th>49520</th>\n",
       "      <td>180375</td>\n",
       "      <td>False</td>\n",
       "      <td>0.569</td>\n",
       "      <td>0.969</td>\n",
       "      <td>1</td>\n",
       "      <td>-3.590</td>\n",
       "      <td>0</td>\n",
       "      <td>0.3190</td>\n",
       "      <td>0.03720</td>\n",
       "      <td>0.000062</td>\n",
       "      <td>0.1790</td>\n",
       "      <td>0.205</td>\n",
       "      <td>160.013</td>\n",
       "      <td>4</td>\n",
       "      <td>hardstyle</td>\n",
       "    </tr>\n",
       "    <tr>\n",
       "      <th>51923</th>\n",
       "      <td>189800</td>\n",
       "      <td>False</td>\n",
       "      <td>0.873</td>\n",
       "      <td>0.658</td>\n",
       "      <td>4</td>\n",
       "      <td>-8.031</td>\n",
       "      <td>0</td>\n",
       "      <td>0.1080</td>\n",
       "      <td>0.00858</td>\n",
       "      <td>0.006100</td>\n",
       "      <td>0.0999</td>\n",
       "      <td>0.483</td>\n",
       "      <td>104.033</td>\n",
       "      <td>4</td>\n",
       "      <td>hip-hop</td>\n",
       "    </tr>\n",
       "  </tbody>\n",
       "</table>\n",
       "</div>"
      ],
      "text/plain": [
       "       duration_ms  explicit  danceability  energy  key  loudness  mode  \\\n",
       "99347       253626     False         0.440   0.838    9    -6.196     1   \n",
       "47291       230986     False         0.503   0.722    7    -5.813     1   \n",
       "94280       180035      True         0.723   0.540   10   -12.310     1   \n",
       "49520       180375     False         0.569   0.969    1    -3.590     0   \n",
       "51923       189800     False         0.873   0.658    4    -8.031     0   \n",
       "\n",
       "       speechiness  acousticness  instrumentalness  liveness  valence  \\\n",
       "99347       0.0423       0.09560          0.000000    0.4730    0.619   \n",
       "47291       0.0248       0.00214          0.000008    0.1160    0.616   \n",
       "94280       0.2800       0.90500          0.047300    0.2510    0.711   \n",
       "49520       0.3190       0.03720          0.000062    0.1790    0.205   \n",
       "51923       0.1080       0.00858          0.006100    0.0999    0.483   \n",
       "\n",
       "         tempo  time_signature        track_genre  \n",
       "99347  138.908               4  singer-songwriter  \n",
       "47291   99.966               4          hard-rock  \n",
       "94280  143.930               4                sad  \n",
       "49520  160.013               4          hardstyle  \n",
       "51923  104.033               4            hip-hop  "
      ]
     },
     "execution_count": 78,
     "metadata": {},
     "output_type": "execute_result"
    }
   ],
   "source": [
    "df.sample(5)"
   ]
  },
  {
   "cell_type": "code",
   "execution_count": 79,
   "id": "46c272dc",
   "metadata": {},
   "outputs": [
    {
     "data": {
      "text/plain": [
       "array(['acoustic', 'afrobeat', 'alt-rock', 'alternative', 'ambient',\n",
       "       'anime', 'black-metal', 'bluegrass', 'blues', 'brazil',\n",
       "       'breakbeat', 'british', 'cantopop', 'chicago-house', 'children',\n",
       "       'chill', 'classical', 'club', 'comedy', 'country'], dtype=object)"
      ]
     },
     "execution_count": 79,
     "metadata": {},
     "output_type": "execute_result"
    }
   ],
   "source": [
    "df['track_genre'].nunique()\n",
    "df['track_genre'].unique()[:20]  # just peek at first 20\n"
   ]
  },
  {
   "cell_type": "code",
   "execution_count": 80,
   "id": "0009cd4e",
   "metadata": {},
   "outputs": [
    {
     "data": {
      "application/vnd.microsoft.datawrangler.viewer.v0+json": {
       "columns": [
        {
         "name": "track_genre",
         "rawType": "object",
         "type": "string"
        },
        {
         "name": "count",
         "rawType": "int64",
         "type": "integer"
        }
       ],
       "ref": "6bfc07f9-6f3a-4034-b943-ebdbc1a99e6a",
       "rows": [
        [
         "acoustic",
         "1000"
        ],
        [
         "emo",
         "1000"
        ],
        [
         "rock-n-roll",
         "1000"
        ],
        [
         "reggaeton",
         "1000"
        ],
        [
         "disco",
         "1000"
        ],
        [
         "r-n-b",
         "1000"
        ],
        [
         "punk-rock",
         "1000"
        ],
        [
         "pagode",
         "1000"
        ],
        [
         "electronic",
         "1000"
        ],
        [
         "mpb",
         "1000"
        ],
        [
         "country",
         "1000"
        ],
        [
         "metalcore",
         "1000"
        ],
        [
         "mandopop",
         "1000"
        ],
        [
         "funk",
         "1000"
        ],
        [
         "garage",
         "1000"
        ],
        [
         "j-rock",
         "1000"
        ],
        [
         "industrial",
         "1000"
        ],
        [
         "indie-pop",
         "1000"
        ],
        [
         "rock",
         "1000"
        ],
        [
         "reggae",
         "1000"
        ]
       ],
       "shape": {
        "columns": 1,
        "rows": 20
       }
      },
      "text/plain": [
       "track_genre\n",
       "acoustic       1000\n",
       "emo            1000\n",
       "rock-n-roll    1000\n",
       "reggaeton      1000\n",
       "disco          1000\n",
       "r-n-b          1000\n",
       "punk-rock      1000\n",
       "pagode         1000\n",
       "electronic     1000\n",
       "mpb            1000\n",
       "country        1000\n",
       "metalcore      1000\n",
       "mandopop       1000\n",
       "funk           1000\n",
       "garage         1000\n",
       "j-rock         1000\n",
       "industrial     1000\n",
       "indie-pop      1000\n",
       "rock           1000\n",
       "reggae         1000\n",
       "Name: count, dtype: int64"
      ]
     },
     "execution_count": 80,
     "metadata": {},
     "output_type": "execute_result"
    }
   ],
   "source": [
    "df['track_genre'].value_counts().head(20)\n"
   ]
  },
  {
   "cell_type": "code",
   "execution_count": 81,
   "id": "cb26600d",
   "metadata": {},
   "outputs": [
    {
     "data": {
      "application/vnd.microsoft.datawrangler.viewer.v0+json": {
       "columns": [
        {
         "name": "index",
         "rawType": "object",
         "type": "string"
        },
        {
         "name": "duration_ms",
         "rawType": "float64",
         "type": "float"
        },
        {
         "name": "danceability",
         "rawType": "float64",
         "type": "float"
        },
        {
         "name": "energy",
         "rawType": "float64",
         "type": "float"
        },
        {
         "name": "key",
         "rawType": "float64",
         "type": "float"
        },
        {
         "name": "loudness",
         "rawType": "float64",
         "type": "float"
        },
        {
         "name": "mode",
         "rawType": "float64",
         "type": "float"
        },
        {
         "name": "speechiness",
         "rawType": "float64",
         "type": "float"
        },
        {
         "name": "acousticness",
         "rawType": "float64",
         "type": "float"
        },
        {
         "name": "instrumentalness",
         "rawType": "float64",
         "type": "float"
        },
        {
         "name": "liveness",
         "rawType": "float64",
         "type": "float"
        },
        {
         "name": "valence",
         "rawType": "float64",
         "type": "float"
        },
        {
         "name": "tempo",
         "rawType": "float64",
         "type": "float"
        },
        {
         "name": "time_signature",
         "rawType": "float64",
         "type": "float"
        }
       ],
       "ref": "6043d4ff-b830-4cbd-9464-55df674dc68b",
       "rows": [
        [
         "count",
         "113549.0",
         "113549.0",
         "113549.0",
         "113549.0",
         "113549.0",
         "113549.0",
         "113549.0",
         "113549.0",
         "113549.0",
         "113549.0",
         "113549.0",
         "113549.0",
         "113549.0"
        ],
        [
         "mean",
         "228081.37084430511",
         "0.5670312966208421",
         "0.6420908612775101",
         "5.30945230693357",
         "-8.243407991263682",
         "0.6378655910664118",
         "0.08467440047908831",
         "0.3140636828894134",
         "0.15570296670362574",
         "0.2136126862411822",
         "0.47420520507446134",
         "122.17574470052578",
         "3.904217562462021"
        ],
        [
         "std",
         "106413.09852473834",
         "0.17340910471619164",
         "0.2510532823772436",
         "3.560146611261205",
         "5.01142156550383",
         "0.4806195097172922",
         "0.1057617566161471",
         "0.3319063799999989",
         "0.30921701446485733",
         "0.19046182774882756",
         "0.2592035656910566",
         "29.972954313928142",
         "0.4321170852193978"
        ],
        [
         "min",
         "8586.0",
         "0.0",
         "0.0",
         "0.0",
         "-49.531",
         "0.0",
         "0.0",
         "0.0",
         "0.0",
         "0.0",
         "0.0",
         "0.0",
         "0.0"
        ],
        [
         "25%",
         "174184.0",
         "0.456",
         "0.473",
         "2.0",
         "-9.998",
         "0.0",
         "0.0359",
         "0.0168",
         "0.0",
         "0.098",
         "0.26",
         "99.296",
         "4.0"
        ],
        [
         "50%",
         "213000.0",
         "0.58",
         "0.685",
         "5.0",
         "-6.997",
         "1.0",
         "0.0489",
         "0.168",
         "4.13e-05",
         "0.132",
         "0.464",
         "122.02",
         "4.0"
        ],
        [
         "75%",
         "261588.0",
         "0.695",
         "0.854",
         "8.0",
         "-5.001",
         "1.0",
         "0.0845",
         "0.596",
         "0.0487",
         "0.273",
         "0.683",
         "140.074",
         "4.0"
        ],
        [
         "max",
         "5237295.0",
         "0.985",
         "1.0",
         "11.0",
         "4.532",
         "1.0",
         "0.965",
         "0.996",
         "1.0",
         "1.0",
         "0.995",
         "243.372",
         "5.0"
        ]
       ],
       "shape": {
        "columns": 13,
        "rows": 8
       }
      },
      "text/html": [
       "<div>\n",
       "<style scoped>\n",
       "    .dataframe tbody tr th:only-of-type {\n",
       "        vertical-align: middle;\n",
       "    }\n",
       "\n",
       "    .dataframe tbody tr th {\n",
       "        vertical-align: top;\n",
       "    }\n",
       "\n",
       "    .dataframe thead th {\n",
       "        text-align: right;\n",
       "    }\n",
       "</style>\n",
       "<table border=\"1\" class=\"dataframe\">\n",
       "  <thead>\n",
       "    <tr style=\"text-align: right;\">\n",
       "      <th></th>\n",
       "      <th>duration_ms</th>\n",
       "      <th>danceability</th>\n",
       "      <th>energy</th>\n",
       "      <th>key</th>\n",
       "      <th>loudness</th>\n",
       "      <th>mode</th>\n",
       "      <th>speechiness</th>\n",
       "      <th>acousticness</th>\n",
       "      <th>instrumentalness</th>\n",
       "      <th>liveness</th>\n",
       "      <th>valence</th>\n",
       "      <th>tempo</th>\n",
       "      <th>time_signature</th>\n",
       "    </tr>\n",
       "  </thead>\n",
       "  <tbody>\n",
       "    <tr>\n",
       "      <th>count</th>\n",
       "      <td>1.135490e+05</td>\n",
       "      <td>113549.000000</td>\n",
       "      <td>113549.000000</td>\n",
       "      <td>113549.000000</td>\n",
       "      <td>113549.000000</td>\n",
       "      <td>113549.000000</td>\n",
       "      <td>113549.000000</td>\n",
       "      <td>113549.000000</td>\n",
       "      <td>113549.000000</td>\n",
       "      <td>113549.000000</td>\n",
       "      <td>113549.000000</td>\n",
       "      <td>113549.000000</td>\n",
       "      <td>113549.000000</td>\n",
       "    </tr>\n",
       "    <tr>\n",
       "      <th>mean</th>\n",
       "      <td>2.280814e+05</td>\n",
       "      <td>0.567031</td>\n",
       "      <td>0.642091</td>\n",
       "      <td>5.309452</td>\n",
       "      <td>-8.243408</td>\n",
       "      <td>0.637866</td>\n",
       "      <td>0.084674</td>\n",
       "      <td>0.314064</td>\n",
       "      <td>0.155703</td>\n",
       "      <td>0.213613</td>\n",
       "      <td>0.474205</td>\n",
       "      <td>122.175745</td>\n",
       "      <td>3.904218</td>\n",
       "    </tr>\n",
       "    <tr>\n",
       "      <th>std</th>\n",
       "      <td>1.064131e+05</td>\n",
       "      <td>0.173409</td>\n",
       "      <td>0.251053</td>\n",
       "      <td>3.560147</td>\n",
       "      <td>5.011422</td>\n",
       "      <td>0.480620</td>\n",
       "      <td>0.105762</td>\n",
       "      <td>0.331906</td>\n",
       "      <td>0.309217</td>\n",
       "      <td>0.190462</td>\n",
       "      <td>0.259204</td>\n",
       "      <td>29.972954</td>\n",
       "      <td>0.432117</td>\n",
       "    </tr>\n",
       "    <tr>\n",
       "      <th>min</th>\n",
       "      <td>8.586000e+03</td>\n",
       "      <td>0.000000</td>\n",
       "      <td>0.000000</td>\n",
       "      <td>0.000000</td>\n",
       "      <td>-49.531000</td>\n",
       "      <td>0.000000</td>\n",
       "      <td>0.000000</td>\n",
       "      <td>0.000000</td>\n",
       "      <td>0.000000</td>\n",
       "      <td>0.000000</td>\n",
       "      <td>0.000000</td>\n",
       "      <td>0.000000</td>\n",
       "      <td>0.000000</td>\n",
       "    </tr>\n",
       "    <tr>\n",
       "      <th>25%</th>\n",
       "      <td>1.741840e+05</td>\n",
       "      <td>0.456000</td>\n",
       "      <td>0.473000</td>\n",
       "      <td>2.000000</td>\n",
       "      <td>-9.998000</td>\n",
       "      <td>0.000000</td>\n",
       "      <td>0.035900</td>\n",
       "      <td>0.016800</td>\n",
       "      <td>0.000000</td>\n",
       "      <td>0.098000</td>\n",
       "      <td>0.260000</td>\n",
       "      <td>99.296000</td>\n",
       "      <td>4.000000</td>\n",
       "    </tr>\n",
       "    <tr>\n",
       "      <th>50%</th>\n",
       "      <td>2.130000e+05</td>\n",
       "      <td>0.580000</td>\n",
       "      <td>0.685000</td>\n",
       "      <td>5.000000</td>\n",
       "      <td>-6.997000</td>\n",
       "      <td>1.000000</td>\n",
       "      <td>0.048900</td>\n",
       "      <td>0.168000</td>\n",
       "      <td>0.000041</td>\n",
       "      <td>0.132000</td>\n",
       "      <td>0.464000</td>\n",
       "      <td>122.020000</td>\n",
       "      <td>4.000000</td>\n",
       "    </tr>\n",
       "    <tr>\n",
       "      <th>75%</th>\n",
       "      <td>2.615880e+05</td>\n",
       "      <td>0.695000</td>\n",
       "      <td>0.854000</td>\n",
       "      <td>8.000000</td>\n",
       "      <td>-5.001000</td>\n",
       "      <td>1.000000</td>\n",
       "      <td>0.084500</td>\n",
       "      <td>0.596000</td>\n",
       "      <td>0.048700</td>\n",
       "      <td>0.273000</td>\n",
       "      <td>0.683000</td>\n",
       "      <td>140.074000</td>\n",
       "      <td>4.000000</td>\n",
       "    </tr>\n",
       "    <tr>\n",
       "      <th>max</th>\n",
       "      <td>5.237295e+06</td>\n",
       "      <td>0.985000</td>\n",
       "      <td>1.000000</td>\n",
       "      <td>11.000000</td>\n",
       "      <td>4.532000</td>\n",
       "      <td>1.000000</td>\n",
       "      <td>0.965000</td>\n",
       "      <td>0.996000</td>\n",
       "      <td>1.000000</td>\n",
       "      <td>1.000000</td>\n",
       "      <td>0.995000</td>\n",
       "      <td>243.372000</td>\n",
       "      <td>5.000000</td>\n",
       "    </tr>\n",
       "  </tbody>\n",
       "</table>\n",
       "</div>"
      ],
      "text/plain": [
       "        duration_ms   danceability         energy            key  \\\n",
       "count  1.135490e+05  113549.000000  113549.000000  113549.000000   \n",
       "mean   2.280814e+05       0.567031       0.642091       5.309452   \n",
       "std    1.064131e+05       0.173409       0.251053       3.560147   \n",
       "min    8.586000e+03       0.000000       0.000000       0.000000   \n",
       "25%    1.741840e+05       0.456000       0.473000       2.000000   \n",
       "50%    2.130000e+05       0.580000       0.685000       5.000000   \n",
       "75%    2.615880e+05       0.695000       0.854000       8.000000   \n",
       "max    5.237295e+06       0.985000       1.000000      11.000000   \n",
       "\n",
       "            loudness           mode    speechiness   acousticness  \\\n",
       "count  113549.000000  113549.000000  113549.000000  113549.000000   \n",
       "mean       -8.243408       0.637866       0.084674       0.314064   \n",
       "std         5.011422       0.480620       0.105762       0.331906   \n",
       "min       -49.531000       0.000000       0.000000       0.000000   \n",
       "25%        -9.998000       0.000000       0.035900       0.016800   \n",
       "50%        -6.997000       1.000000       0.048900       0.168000   \n",
       "75%        -5.001000       1.000000       0.084500       0.596000   \n",
       "max         4.532000       1.000000       0.965000       0.996000   \n",
       "\n",
       "       instrumentalness       liveness        valence          tempo  \\\n",
       "count     113549.000000  113549.000000  113549.000000  113549.000000   \n",
       "mean           0.155703       0.213613       0.474205     122.175745   \n",
       "std            0.309217       0.190462       0.259204      29.972954   \n",
       "min            0.000000       0.000000       0.000000       0.000000   \n",
       "25%            0.000000       0.098000       0.260000      99.296000   \n",
       "50%            0.000041       0.132000       0.464000     122.020000   \n",
       "75%            0.048700       0.273000       0.683000     140.074000   \n",
       "max            1.000000       1.000000       0.995000     243.372000   \n",
       "\n",
       "       time_signature  \n",
       "count   113549.000000  \n",
       "mean         3.904218  \n",
       "std          0.432117  \n",
       "min          0.000000  \n",
       "25%          4.000000  \n",
       "50%          4.000000  \n",
       "75%          4.000000  \n",
       "max          5.000000  "
      ]
     },
     "execution_count": 81,
     "metadata": {},
     "output_type": "execute_result"
    }
   ],
   "source": [
    "df.describe()"
   ]
  },
  {
   "cell_type": "code",
   "execution_count": 82,
   "id": "d25de755",
   "metadata": {},
   "outputs": [
    {
     "data": {
      "application/vnd.microsoft.datawrangler.viewer.v0+json": {
       "columns": [
        {
         "name": "index",
         "rawType": "int64",
         "type": "integer"
        },
        {
         "name": "duration_ms",
         "rawType": "int64",
         "type": "integer"
        },
        {
         "name": "explicit",
         "rawType": "bool",
         "type": "boolean"
        },
        {
         "name": "danceability",
         "rawType": "float64",
         "type": "float"
        },
        {
         "name": "energy",
         "rawType": "float64",
         "type": "float"
        },
        {
         "name": "key",
         "rawType": "int64",
         "type": "integer"
        },
        {
         "name": "loudness",
         "rawType": "float64",
         "type": "float"
        },
        {
         "name": "mode",
         "rawType": "int64",
         "type": "integer"
        },
        {
         "name": "speechiness",
         "rawType": "float64",
         "type": "float"
        },
        {
         "name": "acousticness",
         "rawType": "float64",
         "type": "float"
        },
        {
         "name": "instrumentalness",
         "rawType": "float64",
         "type": "float"
        },
        {
         "name": "liveness",
         "rawType": "float64",
         "type": "float"
        },
        {
         "name": "valence",
         "rawType": "float64",
         "type": "float"
        },
        {
         "name": "tempo",
         "rawType": "float64",
         "type": "float"
        },
        {
         "name": "time_signature",
         "rawType": "int64",
         "type": "integer"
        },
        {
         "name": "track_genre",
         "rawType": "object",
         "type": "string"
        }
       ],
       "ref": "f171e04f-2527-4a7a-a7f7-33c5192da64e",
       "rows": [
        [
         "92813",
         "211666",
         "False",
         "0.533",
         "0.792",
         "11",
         "-10.358",
         "1",
         "0.0319",
         "0.155",
         "0.000631",
         "0.0714",
         "0.718",
         "95.519",
         "4",
         "rockabilly"
        ],
        [
         "111465",
         "290853",
         "False",
         "0.715",
         "0.701",
         "1",
         "-5.575",
         "0",
         "0.0357",
         "0.0921",
         "0.558",
         "0.0984",
         "0.265",
         "85.994",
         "4",
         "trip-hop"
        ],
        [
         "44035",
         "234626",
         "False",
         "0.544",
         "0.848",
         "11",
         "-6.804",
         "0",
         "0.0288",
         "0.00395",
         "5.22e-05",
         "0.134",
         "0.489",
         "99.039",
         "4",
         "grunge"
        ],
        [
         "83420",
         "302613",
         "True",
         "0.728",
         "0.707",
         "8",
         "-5.09",
         "1",
         "0.0435",
         "0.371",
         "0.00107",
         "0.138",
         "0.802",
         "96.017",
         "4",
         "progressive-house"
        ],
        [
         "40752",
         "183903",
         "False",
         "0.598",
         "0.155",
         "4",
         "-11.032",
         "1",
         "0.0358",
         "0.868",
         "0.0",
         "0.104",
         "0.438",
         "137.811",
         "4",
         "gospel"
        ]
       ],
       "shape": {
        "columns": 15,
        "rows": 5
       }
      },
      "text/html": [
       "<div>\n",
       "<style scoped>\n",
       "    .dataframe tbody tr th:only-of-type {\n",
       "        vertical-align: middle;\n",
       "    }\n",
       "\n",
       "    .dataframe tbody tr th {\n",
       "        vertical-align: top;\n",
       "    }\n",
       "\n",
       "    .dataframe thead th {\n",
       "        text-align: right;\n",
       "    }\n",
       "</style>\n",
       "<table border=\"1\" class=\"dataframe\">\n",
       "  <thead>\n",
       "    <tr style=\"text-align: right;\">\n",
       "      <th></th>\n",
       "      <th>duration_ms</th>\n",
       "      <th>explicit</th>\n",
       "      <th>danceability</th>\n",
       "      <th>energy</th>\n",
       "      <th>key</th>\n",
       "      <th>loudness</th>\n",
       "      <th>mode</th>\n",
       "      <th>speechiness</th>\n",
       "      <th>acousticness</th>\n",
       "      <th>instrumentalness</th>\n",
       "      <th>liveness</th>\n",
       "      <th>valence</th>\n",
       "      <th>tempo</th>\n",
       "      <th>time_signature</th>\n",
       "      <th>track_genre</th>\n",
       "    </tr>\n",
       "  </thead>\n",
       "  <tbody>\n",
       "    <tr>\n",
       "      <th>92813</th>\n",
       "      <td>211666</td>\n",
       "      <td>False</td>\n",
       "      <td>0.533</td>\n",
       "      <td>0.792</td>\n",
       "      <td>11</td>\n",
       "      <td>-10.358</td>\n",
       "      <td>1</td>\n",
       "      <td>0.0319</td>\n",
       "      <td>0.15500</td>\n",
       "      <td>0.000631</td>\n",
       "      <td>0.0714</td>\n",
       "      <td>0.718</td>\n",
       "      <td>95.519</td>\n",
       "      <td>4</td>\n",
       "      <td>rockabilly</td>\n",
       "    </tr>\n",
       "    <tr>\n",
       "      <th>111465</th>\n",
       "      <td>290853</td>\n",
       "      <td>False</td>\n",
       "      <td>0.715</td>\n",
       "      <td>0.701</td>\n",
       "      <td>1</td>\n",
       "      <td>-5.575</td>\n",
       "      <td>0</td>\n",
       "      <td>0.0357</td>\n",
       "      <td>0.09210</td>\n",
       "      <td>0.558000</td>\n",
       "      <td>0.0984</td>\n",
       "      <td>0.265</td>\n",
       "      <td>85.994</td>\n",
       "      <td>4</td>\n",
       "      <td>trip-hop</td>\n",
       "    </tr>\n",
       "    <tr>\n",
       "      <th>44035</th>\n",
       "      <td>234626</td>\n",
       "      <td>False</td>\n",
       "      <td>0.544</td>\n",
       "      <td>0.848</td>\n",
       "      <td>11</td>\n",
       "      <td>-6.804</td>\n",
       "      <td>0</td>\n",
       "      <td>0.0288</td>\n",
       "      <td>0.00395</td>\n",
       "      <td>0.000052</td>\n",
       "      <td>0.1340</td>\n",
       "      <td>0.489</td>\n",
       "      <td>99.039</td>\n",
       "      <td>4</td>\n",
       "      <td>grunge</td>\n",
       "    </tr>\n",
       "    <tr>\n",
       "      <th>83420</th>\n",
       "      <td>302613</td>\n",
       "      <td>True</td>\n",
       "      <td>0.728</td>\n",
       "      <td>0.707</td>\n",
       "      <td>8</td>\n",
       "      <td>-5.090</td>\n",
       "      <td>1</td>\n",
       "      <td>0.0435</td>\n",
       "      <td>0.37100</td>\n",
       "      <td>0.001070</td>\n",
       "      <td>0.1380</td>\n",
       "      <td>0.802</td>\n",
       "      <td>96.017</td>\n",
       "      <td>4</td>\n",
       "      <td>progressive-house</td>\n",
       "    </tr>\n",
       "    <tr>\n",
       "      <th>40752</th>\n",
       "      <td>183903</td>\n",
       "      <td>False</td>\n",
       "      <td>0.598</td>\n",
       "      <td>0.155</td>\n",
       "      <td>4</td>\n",
       "      <td>-11.032</td>\n",
       "      <td>1</td>\n",
       "      <td>0.0358</td>\n",
       "      <td>0.86800</td>\n",
       "      <td>0.000000</td>\n",
       "      <td>0.1040</td>\n",
       "      <td>0.438</td>\n",
       "      <td>137.811</td>\n",
       "      <td>4</td>\n",
       "      <td>gospel</td>\n",
       "    </tr>\n",
       "  </tbody>\n",
       "</table>\n",
       "</div>"
      ],
      "text/plain": [
       "        duration_ms  explicit  danceability  energy  key  loudness  mode  \\\n",
       "92813        211666     False         0.533   0.792   11   -10.358     1   \n",
       "111465       290853     False         0.715   0.701    1    -5.575     0   \n",
       "44035        234626     False         0.544   0.848   11    -6.804     0   \n",
       "83420        302613      True         0.728   0.707    8    -5.090     1   \n",
       "40752        183903     False         0.598   0.155    4   -11.032     1   \n",
       "\n",
       "        speechiness  acousticness  instrumentalness  liveness  valence  \\\n",
       "92813        0.0319       0.15500          0.000631    0.0714    0.718   \n",
       "111465       0.0357       0.09210          0.558000    0.0984    0.265   \n",
       "44035        0.0288       0.00395          0.000052    0.1340    0.489   \n",
       "83420        0.0435       0.37100          0.001070    0.1380    0.802   \n",
       "40752        0.0358       0.86800          0.000000    0.1040    0.438   \n",
       "\n",
       "          tempo  time_signature        track_genre  \n",
       "92813    95.519               4         rockabilly  \n",
       "111465   85.994               4           trip-hop  \n",
       "44035    99.039               4             grunge  \n",
       "83420    96.017               4  progressive-house  \n",
       "40752   137.811               4             gospel  "
      ]
     },
     "execution_count": 82,
     "metadata": {},
     "output_type": "execute_result"
    }
   ],
   "source": [
    "df.sample(5)"
   ]
  },
  {
   "cell_type": "code",
   "execution_count": null,
   "id": "bbb9a112",
   "metadata": {},
   "outputs": [],
   "source": []
  }
 ],
 "metadata": {
  "kernelspec": {
   "display_name": "Python 3",
   "language": "python",
   "name": "python3"
  },
  "language_info": {
   "codemirror_mode": {
    "name": "ipython",
    "version": 3
   },
   "file_extension": ".py",
   "mimetype": "text/x-python",
   "name": "python",
   "nbconvert_exporter": "python",
   "pygments_lexer": "ipython3",
   "version": "3.12.4"
  }
 },
 "nbformat": 4,
 "nbformat_minor": 5
}
